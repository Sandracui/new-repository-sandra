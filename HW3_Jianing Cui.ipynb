{
 "cells": [
  {
   "cell_type": "code",
   "execution_count": 17,
   "metadata": {
    "collapsed": true
   },
   "outputs": [],
   "source": [
    "import pandas as pd\n",
    "from pandas import Series, DataFrame\n",
    "import os\n",
    "os.chdir(\"/Users/Apple/downloads\")\n",
    "%matplotlib inline"
   ]
  },
  {
   "cell_type": "markdown",
   "metadata": {},
   "source": [
    "### Q1 Read in data"
   ]
  },
  {
   "cell_type": "code",
   "execution_count": 18,
   "metadata": {},
   "outputs": [
    {
     "name": "stdout",
     "output_type": "stream",
     "text": [
      "                                      url category\n",
      "0               http://0800-horoscope.com        G\n",
      "1                      http://18games.net        X\n",
      "2                    http://1pixelout.net        G\n",
      "3  http://1porno.com/004/teens/index.html        X\n",
      "4   http://1stpussy.com/005/16/index.html        X\n",
      "             turk            url category\n",
      "0  A1OT3A29R9N1DG  http://000.cc        P\n",
      "1  A1PXXEOGQ76RNJ  http://000.cc        G\n",
      "2  A1PXXEOGQ76RNJ  http://000.cc        G\n",
      "3  A21US576U8SCO4  http://000.cc        G\n",
      "4  A2LGX47NN7C5D3  http://000.cc        G\n"
     ]
    }
   ],
   "source": [
    "orig_gold=pd.read_csv(\"gold.txt\",sep='\\s+',names=[\"url\",\"category\"])\n",
    "orig_labels=pd.read_csv(\"labels.txt\",sep='\\s+',names=[\"turk\",\"url\",\"category\"])\n",
    "print orig_gold[:5]\n",
    "print orig_labels[:5]"
   ]
  },
  {
   "cell_type": "markdown",
   "metadata": {},
   "source": [
    "### Q2 Split into two DataFrames"
   ]
  },
  {
   "cell_type": "code",
   "execution_count": 19,
   "metadata": {},
   "outputs": [
    {
     "name": "stdout",
     "output_type": "stream",
     "text": [
      "             turk                        url category_labels\n",
      "0  A1253FXHCZ9CWM  http://0800-horoscope.com               G\n",
      "1  A153PKAL7OAY36  http://0800-horoscope.com               G\n",
      "2  A1FV9SAPL5C6KY  http://0800-horoscope.com               G\n",
      "3  A1JTOT0DWM6QGL  http://0800-horoscope.com               G\n",
      "4  A1PXXEOGQ76RNJ  http://0800-horoscope.com               G\n",
      "             turk            url category\n",
      "0  A1OT3A29R9N1DG  http://000.cc        P\n",
      "1  A1PXXEOGQ76RNJ  http://000.cc        G\n",
      "2  A1PXXEOGQ76RNJ  http://000.cc        G\n",
      "3  A21US576U8SCO4  http://000.cc        G\n",
      "4  A2LGX47NN7C5D3  http://000.cc        G\n"
     ]
    }
   ],
   "source": [
    "labels_gold=orig_labels.merge(orig_gold,left_on=\"url\",right_on=\"url\",suffixes=[\"_labels\",\"_gold\"])\n",
    "labels_on_gold=orig_labels.merge(orig_gold,left_on=\"url\",right_on=\"url\",suffixes=[\"_labels\",\"_gold\"])[[\"turk\",\"url\",\"category_labels\"]]\n",
    "labels_unknown=orig_labels[orig_labels[\"url\"].isin(labels_on_gold)==False]\n",
    "print labels_on_gold[:5]\n",
    "print labels_unknown[:5]"
   ]
  },
  {
   "cell_type": "markdown",
   "metadata": {},
   "source": [
    "### Q3 Compute accuracies of turks"
   ]
  },
  {
   "cell_type": "code",
   "execution_count": 20,
   "metadata": {},
   "outputs": [
    {
     "data": {
      "text/html": [
       "<div>\n",
       "<style>\n",
       "    .dataframe thead tr:only-child th {\n",
       "        text-align: right;\n",
       "    }\n",
       "\n",
       "    .dataframe thead th {\n",
       "        text-align: left;\n",
       "    }\n",
       "\n",
       "    .dataframe tbody tr th {\n",
       "        vertical-align: top;\n",
       "    }\n",
       "</style>\n",
       "<table border=\"1\" class=\"dataframe\">\n",
       "  <thead>\n",
       "    <tr style=\"text-align: right;\">\n",
       "      <th></th>\n",
       "      <th>avg_correct</th>\n",
       "      <th>label_gold_turk</th>\n",
       "    </tr>\n",
       "  </thead>\n",
       "  <tbody>\n",
       "    <tr>\n",
       "      <th>A112DVP1KG4QZU</th>\n",
       "      <td>1.000000</td>\n",
       "      <td>1</td>\n",
       "    </tr>\n",
       "    <tr>\n",
       "      <th>A1253FXHCZ9CWM</th>\n",
       "      <td>0.517241</td>\n",
       "      <td>29</td>\n",
       "    </tr>\n",
       "    <tr>\n",
       "      <th>A12CY1Q7XKJJDE</th>\n",
       "      <td>1.000000</td>\n",
       "      <td>1</td>\n",
       "    </tr>\n",
       "    <tr>\n",
       "      <th>A12RE8G66WTO8B</th>\n",
       "      <td>0.750000</td>\n",
       "      <td>20</td>\n",
       "    </tr>\n",
       "    <tr>\n",
       "      <th>A12Y1GTGIQDGRA</th>\n",
       "      <td>0.333333</td>\n",
       "      <td>3</td>\n",
       "    </tr>\n",
       "  </tbody>\n",
       "</table>\n",
       "</div>"
      ],
      "text/plain": [
       "                avg_correct  label_gold_turk\n",
       "A112DVP1KG4QZU     1.000000                1\n",
       "A1253FXHCZ9CWM     0.517241               29\n",
       "A12CY1Q7XKJJDE     1.000000                1\n",
       "A12RE8G66WTO8B     0.750000               20\n",
       "A12Y1GTGIQDGRA     0.333333                3"
      ]
     },
     "execution_count": 20,
     "metadata": {},
     "output_type": "execute_result"
    }
   ],
   "source": [
    "label_gold_turk=labels_gold[\"turk\"].value_counts()\n",
    "correct_turk=labels_gold[labels_gold[\"category_labels\"]==labels_gold[\"category_gold\"]]\n",
    "correct_num_turk=correct_turk[\"turk\"].value_counts()\n",
    "avg_correct=correct_num_turk/label_gold_turk\n",
    "rater_goodness=DataFrame({\"avg_correct\":avg_correct,\"label_gold_turk\":label_gold_turk})\n",
    "rater_goodness[:5]"
   ]
  },
  {
   "cell_type": "markdown",
   "metadata": {},
   "source": [
    "### Q4 Odds ratios"
   ]
  },
  {
   "cell_type": "code",
   "execution_count": 21,
   "metadata": {},
   "outputs": [
    {
     "data": {
      "text/html": [
       "<div>\n",
       "<style>\n",
       "    .dataframe thead tr:only-child th {\n",
       "        text-align: right;\n",
       "    }\n",
       "\n",
       "    .dataframe thead th {\n",
       "        text-align: left;\n",
       "    }\n",
       "\n",
       "    .dataframe tbody tr th {\n",
       "        vertical-align: top;\n",
       "    }\n",
       "</style>\n",
       "<table border=\"1\" class=\"dataframe\">\n",
       "  <thead>\n",
       "    <tr style=\"text-align: right;\">\n",
       "      <th></th>\n",
       "      <th>avg_correct</th>\n",
       "      <th>label_gold_turk</th>\n",
       "      <th>odds</th>\n",
       "    </tr>\n",
       "  </thead>\n",
       "  <tbody>\n",
       "    <tr>\n",
       "      <th>A112DVP1KG4QZU</th>\n",
       "      <td>1.000000</td>\n",
       "      <td>1</td>\n",
       "      <td>1000.000000</td>\n",
       "    </tr>\n",
       "    <tr>\n",
       "      <th>A1253FXHCZ9CWM</th>\n",
       "      <td>0.517241</td>\n",
       "      <td>29</td>\n",
       "      <td>1.069214</td>\n",
       "    </tr>\n",
       "    <tr>\n",
       "      <th>A12CY1Q7XKJJDE</th>\n",
       "      <td>1.000000</td>\n",
       "      <td>1</td>\n",
       "      <td>1000.000000</td>\n",
       "    </tr>\n",
       "    <tr>\n",
       "      <th>A12RE8G66WTO8B</th>\n",
       "      <td>0.750000</td>\n",
       "      <td>20</td>\n",
       "      <td>2.988048</td>\n",
       "    </tr>\n",
       "    <tr>\n",
       "      <th>A12Y1GTGIQDGRA</th>\n",
       "      <td>0.333333</td>\n",
       "      <td>3</td>\n",
       "      <td>0.499251</td>\n",
       "    </tr>\n",
       "  </tbody>\n",
       "</table>\n",
       "</div>"
      ],
      "text/plain": [
       "                avg_correct  label_gold_turk         odds\n",
       "A112DVP1KG4QZU     1.000000                1  1000.000000\n",
       "A1253FXHCZ9CWM     0.517241               29     1.069214\n",
       "A12CY1Q7XKJJDE     1.000000                1  1000.000000\n",
       "A12RE8G66WTO8B     0.750000               20     2.988048\n",
       "A12Y1GTGIQDGRA     0.333333                3     0.499251"
      ]
     },
     "execution_count": 21,
     "metadata": {},
     "output_type": "execute_result"
    }
   ],
   "source": [
    "rater_goodness[\"odds\"]=rater_goodness[\"avg_correct\"]/(1.001-rater_goodness[\"avg_correct\"])\n",
    "rater_goodness[:5]"
   ]
  },
  {
   "cell_type": "markdown",
   "metadata": {},
   "source": [
    "### Q5 Most accurate turks"
   ]
  },
  {
   "cell_type": "code",
   "execution_count": 22,
   "metadata": {},
   "outputs": [
    {
     "data": {
      "text/plain": [
       "A31OCN4MNHUQ6W    184\n",
       "A153PKAL7OAY36    148\n",
       "A2BTR0GQ5B5JI6    126\n",
       "ATVALOQVDCMZW     103\n",
       "AZSDW7JJL5VA7     100\n",
       "A3GE97GX3OXJTW     85\n",
       "A2JP3HEL3J25AJ     80\n",
       "A3JMQDTEKRE5X6     80\n",
       "A3MA9V9UPGCOK7     71\n",
       "APYV9Y0DFZFVP      71\n",
       "Name: turk, dtype: int64"
      ]
     },
     "execution_count": 22,
     "metadata": {},
     "output_type": "execute_result"
    }
   ],
   "source": [
    "count_accurate=labels_on_gold[\"turk\"].value_counts()\n",
    "top_accurate=count_accurate[count_accurate.values>=20].sort_values(ascending=False)\n",
    "top_accurate[:10]"
   ]
  },
  {
   "cell_type": "markdown",
   "metadata": {},
   "source": [
    "### Q6 Rating counts versus accuracy"
   ]
  },
  {
   "cell_type": "code",
   "execution_count": 23,
   "metadata": {
    "collapsed": true
   },
   "outputs": [],
   "source": [
    "new_countaccurate=count_accurate[count_accurate.values>5.0]\n",
    "# drop lots of low accurate turks, which otherwise affects even seperation"
   ]
  },
  {
   "cell_type": "code",
   "execution_count": 24,
   "metadata": {},
   "outputs": [
    {
     "data": {
      "text/plain": [
       "(5.999, 9.0]     21\n",
       "(48.0, 184.0]    19\n",
       "(24.0, 48.0]     19\n",
       "(15.0, 24.0]     19\n",
       "(9.0, 15.0]      18\n",
       "Name: turk, dtype: int64"
      ]
     },
     "execution_count": 24,
     "metadata": {},
     "output_type": "execute_result"
    }
   ],
   "source": [
    "accurate_bucket=pd.qcut(new_countaccurate,5)\n",
    "accurate_bucket.value_counts() \n",
    "# check if each range has approximately the same number of turkers"
   ]
  },
  {
   "cell_type": "code",
   "execution_count": 25,
   "metadata": {},
   "outputs": [
    {
     "data": {
      "text/html": [
       "<div>\n",
       "<style>\n",
       "    .dataframe thead tr:only-child th {\n",
       "        text-align: right;\n",
       "    }\n",
       "\n",
       "    .dataframe thead th {\n",
       "        text-align: left;\n",
       "    }\n",
       "\n",
       "    .dataframe tbody tr th {\n",
       "        vertical-align: top;\n",
       "    }\n",
       "</style>\n",
       "<table border=\"1\" class=\"dataframe\">\n",
       "  <thead>\n",
       "    <tr style=\"text-align: right;\">\n",
       "      <th></th>\n",
       "      <th>accurate_bucket</th>\n",
       "      <th>label_gold_turk</th>\n",
       "      <th>num_url</th>\n",
       "    </tr>\n",
       "  </thead>\n",
       "  <tbody>\n",
       "    <tr>\n",
       "      <th>A1253FXHCZ9CWM</th>\n",
       "      <td>(24.0, 48.0]</td>\n",
       "      <td>29.0</td>\n",
       "      <td>89</td>\n",
       "    </tr>\n",
       "    <tr>\n",
       "      <th>A12RE8G66WTO8B</th>\n",
       "      <td>(15.0, 24.0]</td>\n",
       "      <td>20.0</td>\n",
       "      <td>208</td>\n",
       "    </tr>\n",
       "    <tr>\n",
       "      <th>A153PKAL7OAY36</th>\n",
       "      <td>(48.0, 184.0]</td>\n",
       "      <td>148.0</td>\n",
       "      <td>525</td>\n",
       "    </tr>\n",
       "    <tr>\n",
       "      <th>A17OE8HU0QCX21</th>\n",
       "      <td>(5.999, 9.0]</td>\n",
       "      <td>8.0</td>\n",
       "      <td>626</td>\n",
       "    </tr>\n",
       "    <tr>\n",
       "      <th>A18HIFA78GUAG9</th>\n",
       "      <td>(9.0, 15.0]</td>\n",
       "      <td>13.0</td>\n",
       "      <td>245</td>\n",
       "    </tr>\n",
       "  </tbody>\n",
       "</table>\n",
       "</div>"
      ],
      "text/plain": [
       "               accurate_bucket  label_gold_turk  num_url\n",
       "A1253FXHCZ9CWM    (24.0, 48.0]             29.0       89\n",
       "A12RE8G66WTO8B    (15.0, 24.0]             20.0      208\n",
       "A153PKAL7OAY36   (48.0, 184.0]            148.0      525\n",
       "A17OE8HU0QCX21    (5.999, 9.0]              8.0      626\n",
       "A18HIFA78GUAG9     (9.0, 15.0]             13.0      245"
      ]
     },
     "execution_count": 25,
     "metadata": {},
     "output_type": "execute_result"
    }
   ],
   "source": [
    "num_url=orig_labels[\"turk\"].value_counts()\n",
    "count_accuracy=DataFrame({\"label_gold_turk\":label_gold_turk,\"num_url\":num_url,\"accurate_bucket\":accurate_bucket})\n",
    "count_accuracy=count_accuracy.dropna(how=\"any\") \n",
    "# drop missing values, which indicates the turk is not accurate at all. \n",
    "count_accuracy[:5]"
   ]
  },
  {
   "cell_type": "code",
   "execution_count": 26,
   "metadata": {},
   "outputs": [
    {
     "data": {
      "text/html": [
       "<div>\n",
       "<style>\n",
       "    .dataframe thead tr:only-child th {\n",
       "        text-align: right;\n",
       "    }\n",
       "\n",
       "    .dataframe thead th {\n",
       "        text-align: left;\n",
       "    }\n",
       "\n",
       "    .dataframe tbody tr th {\n",
       "        vertical-align: top;\n",
       "    }\n",
       "</style>\n",
       "<table border=\"1\" class=\"dataframe\">\n",
       "  <thead>\n",
       "    <tr style=\"text-align: right;\">\n",
       "      <th></th>\n",
       "      <th>label_gold_turk</th>\n",
       "      <th>num_url</th>\n",
       "    </tr>\n",
       "    <tr>\n",
       "      <th>accurate_bucket</th>\n",
       "      <th></th>\n",
       "      <th></th>\n",
       "    </tr>\n",
       "  </thead>\n",
       "  <tbody>\n",
       "    <tr>\n",
       "      <th>(5.999, 9.0]</th>\n",
       "      <td>155.0</td>\n",
       "      <td>6968</td>\n",
       "    </tr>\n",
       "    <tr>\n",
       "      <th>(9.0, 15.0]</th>\n",
       "      <td>210.0</td>\n",
       "      <td>7376</td>\n",
       "    </tr>\n",
       "    <tr>\n",
       "      <th>(15.0, 24.0]</th>\n",
       "      <td>386.0</td>\n",
       "      <td>8154</td>\n",
       "    </tr>\n",
       "    <tr>\n",
       "      <th>(24.0, 48.0]</th>\n",
       "      <td>670.0</td>\n",
       "      <td>16057</td>\n",
       "    </tr>\n",
       "    <tr>\n",
       "      <th>(48.0, 184.0]</th>\n",
       "      <td>1580.0</td>\n",
       "      <td>14974</td>\n",
       "    </tr>\n",
       "  </tbody>\n",
       "</table>\n",
       "</div>"
      ],
      "text/plain": [
       "                 label_gold_turk  num_url\n",
       "accurate_bucket                          \n",
       "(5.999, 9.0]               155.0     6968\n",
       "(9.0, 15.0]                210.0     7376\n",
       "(15.0, 24.0]               386.0     8154\n",
       "(24.0, 48.0]               670.0    16057\n",
       "(48.0, 184.0]             1580.0    14974"
      ]
     },
     "execution_count": 26,
     "metadata": {},
     "output_type": "execute_result"
    }
   ],
   "source": [
    "group_bucket = count_accuracy.groupby([\"accurate_bucket\"])[['label_gold_turk',\"num_url\"]].sum()\n",
    "group_bucket\n",
    "# respectively count num of ratings on gold urls and num of total urls for each turk"
   ]
  },
  {
   "cell_type": "code",
   "execution_count": 27,
   "metadata": {},
   "outputs": [
    {
     "data": {
      "text/plain": [
       "<matplotlib.axes._subplots.AxesSubplot at 0x110e1fd10>"
      ]
     },
     "execution_count": 27,
     "metadata": {},
     "output_type": "execute_result"
    },
    {
     "data": {
      "image/png": "[encoded data removed]",
      "text/plain": [
       "<matplotlib.figure.Figure at 0x110d7bdd0>"
      ]
     },
     "metadata": {},
     "output_type": "display_data"
    }
   ],
   "source": [
    "gold_in_url=group_bucket[\"label_gold_turk\"]/group_bucket[\"num_url\"]\n",
    "gold_in_url.plot(kind=\"bar\",color=\"black\")"
   ]
  },
  {
   "cell_type": "markdown",
   "metadata": {},
   "source": [
    "###### According to the plot,the more accurate the turker is, the more ratings on gold set  the turker seems to have done. So maybe the possibility of only the spammers who have the time to rate lots of URLs is relatively low."
   ]
  },
  {
   "cell_type": "markdown",
   "metadata": {},
   "source": [
    "### Q7 Overall predicted odds"
   ]
  },
  {
   "cell_type": "code",
   "execution_count": 28,
   "metadata": {
    "collapsed": true
   },
   "outputs": [],
   "source": [
    "group_gold_turk= labels_on_gold.groupby([\"turk\"])[['url']].agg('count')"
   ]
  },
  {
   "cell_type": "code",
   "execution_count": 29,
   "metadata": {
    "collapsed": true
   },
   "outputs": [],
   "source": [
    "top_quantile_turk=group_gold_turk.sort_values(by=\"url\",ascending=False)[:67]"
   ]
  },
  {
   "cell_type": "code",
   "execution_count": 41,
   "metadata": {},
   "outputs": [
    {
     "data": {
      "text/html": [
       "<div>\n",
       "<style>\n",
       "    .dataframe thead tr:only-child th {\n",
       "        text-align: right;\n",
       "    }\n",
       "\n",
       "    .dataframe thead th {\n",
       "        text-align: left;\n",
       "    }\n",
       "\n",
       "    .dataframe tbody tr th {\n",
       "        vertical-align: top;\n",
       "    }\n",
       "</style>\n",
       "<table border=\"1\" class=\"dataframe\">\n",
       "  <thead>\n",
       "    <tr style=\"text-align: right;\">\n",
       "      <th></th>\n",
       "      <th>url</th>\n",
       "    </tr>\n",
       "    <tr>\n",
       "      <th>turk</th>\n",
       "      <th></th>\n",
       "    </tr>\n",
       "  </thead>\n",
       "  <tbody>\n",
       "    <tr>\n",
       "      <th>A31OCN4MNHUQ6W</th>\n",
       "      <td>184</td>\n",
       "    </tr>\n",
       "    <tr>\n",
       "      <th>A153PKAL7OAY36</th>\n",
       "      <td>148</td>\n",
       "    </tr>\n",
       "    <tr>\n",
       "      <th>A2BTR0GQ5B5JI6</th>\n",
       "      <td>126</td>\n",
       "    </tr>\n",
       "    <tr>\n",
       "      <th>ATVALOQVDCMZW</th>\n",
       "      <td>103</td>\n",
       "    </tr>\n",
       "    <tr>\n",
       "      <th>AZSDW7JJL5VA7</th>\n",
       "      <td>100</td>\n",
       "    </tr>\n",
       "  </tbody>\n",
       "</table>\n",
       "</div>"
      ],
      "text/plain": [
       "                url\n",
       "turk               \n",
       "A31OCN4MNHUQ6W  184\n",
       "A153PKAL7OAY36  148\n",
       "A2BTR0GQ5B5JI6  126\n",
       "ATVALOQVDCMZW   103\n",
       "AZSDW7JJL5VA7   100"
      ]
     },
     "execution_count": 41,
     "metadata": {},
     "output_type": "execute_result"
    }
   ],
   "source": [
    "top_quantile_turk[:5]"
   ]
  },
  {
   "cell_type": "code",
   "execution_count": 60,
   "metadata": {},
   "outputs": [],
   "source": [
    "top_turk=pd.DataFrame(top_quantile_turk.index.values,columns=[[\"turk\"]])"
   ]
  },
  {
   "cell_type": "code",
   "execution_count": 61,
   "metadata": {},
   "outputs": [
    {
     "data": {
      "text/html": [
       "<div>\n",
       "<style>\n",
       "    .dataframe thead tr:only-child th {\n",
       "        text-align: right;\n",
       "    }\n",
       "\n",
       "    .dataframe thead th {\n",
       "        text-align: left;\n",
       "    }\n",
       "\n",
       "    .dataframe tbody tr th {\n",
       "        vertical-align: top;\n",
       "    }\n",
       "</style>\n",
       "<table border=\"1\" class=\"dataframe\">\n",
       "  <thead>\n",
       "    <tr style=\"text-align: right;\">\n",
       "      <th></th>\n",
       "      <th>turk</th>\n",
       "    </tr>\n",
       "  </thead>\n",
       "  <tbody>\n",
       "    <tr>\n",
       "      <th>0</th>\n",
       "      <td>A31OCN4MNHUQ6W</td>\n",
       "    </tr>\n",
       "    <tr>\n",
       "      <th>1</th>\n",
       "      <td>A153PKAL7OAY36</td>\n",
       "    </tr>\n",
       "    <tr>\n",
       "      <th>2</th>\n",
       "      <td>A2BTR0GQ5B5JI6</td>\n",
       "    </tr>\n",
       "    <tr>\n",
       "      <th>3</th>\n",
       "      <td>ATVALOQVDCMZW</td>\n",
       "    </tr>\n",
       "    <tr>\n",
       "      <th>4</th>\n",
       "      <td>AZSDW7JJL5VA7</td>\n",
       "    </tr>\n",
       "  </tbody>\n",
       "</table>\n",
       "</div>"
      ],
      "text/plain": [
       "             turk\n",
       "0  A31OCN4MNHUQ6W\n",
       "1  A153PKAL7OAY36\n",
       "2  A2BTR0GQ5B5JI6\n",
       "3   ATVALOQVDCMZW\n",
       "4   AZSDW7JJL5VA7"
      ]
     },
     "execution_count": 61,
     "metadata": {},
     "output_type": "execute_result"
    }
   ],
   "source": [
    "top_turk[:5]"
   ]
  },
  {
   "cell_type": "code",
   "execution_count": 63,
   "metadata": {},
   "outputs": [],
   "source": [
    "top_unknown_turk=labels_unknown.merge(top_turk,left_on=\"turk\",right_on=\"turk\",suffixes=[\"_labelsunknown\",\"_topturk\"])"
   ]
  },
  {
   "cell_type": "code",
   "execution_count": 64,
   "metadata": {},
   "outputs": [
    {
     "data": {
      "text/html": [
       "<div>\n",
       "<style>\n",
       "    .dataframe thead tr:only-child th {\n",
       "        text-align: right;\n",
       "    }\n",
       "\n",
       "    .dataframe thead th {\n",
       "        text-align: left;\n",
       "    }\n",
       "\n",
       "    .dataframe tbody tr th {\n",
       "        vertical-align: top;\n",
       "    }\n",
       "</style>\n",
       "<table border=\"1\" class=\"dataframe\">\n",
       "  <thead>\n",
       "    <tr style=\"text-align: right;\">\n",
       "      <th></th>\n",
       "      <th>turk</th>\n",
       "      <th>url</th>\n",
       "      <th>category</th>\n",
       "    </tr>\n",
       "  </thead>\n",
       "  <tbody>\n",
       "    <tr>\n",
       "      <th>0</th>\n",
       "      <td>A1PXXEOGQ76RNJ</td>\n",
       "      <td>http://000.cc</td>\n",
       "      <td>G</td>\n",
       "    </tr>\n",
       "    <tr>\n",
       "      <th>1</th>\n",
       "      <td>A1PXXEOGQ76RNJ</td>\n",
       "      <td>http://000.cc</td>\n",
       "      <td>G</td>\n",
       "    </tr>\n",
       "    <tr>\n",
       "      <th>2</th>\n",
       "      <td>A1PXXEOGQ76RNJ</td>\n",
       "      <td>http://0000.jp</td>\n",
       "      <td>G</td>\n",
       "    </tr>\n",
       "    <tr>\n",
       "      <th>3</th>\n",
       "      <td>A1PXXEOGQ76RNJ</td>\n",
       "      <td>http://000relationships.com</td>\n",
       "      <td>G</td>\n",
       "    </tr>\n",
       "    <tr>\n",
       "      <th>4</th>\n",
       "      <td>A1PXXEOGQ76RNJ</td>\n",
       "      <td>http://000relationships.com</td>\n",
       "      <td>G</td>\n",
       "    </tr>\n",
       "  </tbody>\n",
       "</table>\n",
       "</div>"
      ],
      "text/plain": [
       "             turk                          url category\n",
       "0  A1PXXEOGQ76RNJ                http://000.cc        G\n",
       "1  A1PXXEOGQ76RNJ                http://000.cc        G\n",
       "2  A1PXXEOGQ76RNJ               http://0000.jp        G\n",
       "3  A1PXXEOGQ76RNJ  http://000relationships.com        G\n",
       "4  A1PXXEOGQ76RNJ  http://000relationships.com        G"
      ]
     },
     "execution_count": 64,
     "metadata": {},
     "output_type": "execute_result"
    }
   ],
   "source": [
    "top_unknown_turk[:5]\n",
    "#who are rating unknown urls, and have rated more gold set urls than 75% of all turks."
   ]
  },
  {
   "cell_type": "code",
   "execution_count": null,
   "metadata": {
    "collapsed": true
   },
   "outputs": [],
   "source": []
  }
 ],
 "metadata": {
  "kernelspec": {
   "display_name": "Python 2",
   "language": "python",
   "name": "python2"
  },
  "language_info": {
   "codemirror_mode": {
    "name": "ipython",
    "version": 2
   },
   "file_extension": ".py",
   "mimetype": "text/x-python",
   "name": "python",
   "nbconvert_exporter": "python",
   "pygments_lexer": "ipython2",
   "version": "2.7.13"
  }
 },
 "nbformat": 4,
 "nbformat_minor": 2
}
